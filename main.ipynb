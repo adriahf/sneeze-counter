{
 "cells": [
  {
   "cell_type": "code",
   "execution_count": 36,
   "metadata": {},
   "outputs": [],
   "source": [
    "from datetime import datetime\n",
    "import pandas as pd"
   ]
  },
  {
   "cell_type": "code",
   "execution_count": 35,
   "metadata": {},
   "outputs": [],
   "source": [
    "datetimes = []\n",
    "sneezes = []\n",
    "number_line = False\n",
    "# read the data and create lists of datetimes and number of sneezes\n",
    "with open('data/raw_data.html', 'r') as f:\n",
    "    for line in f:\n",
    "        # this line is related to datetime\n",
    "        if \"pull_right date details\" in line:\n",
    "            datetime_str = line.split('\"')[-2]\n",
    "            datetime_obj = datetime.strptime(datetime_str, '%d.%m.%Y %H:%M:%S')\n",
    "            datetimes.append(datetime_obj)\n",
    "        if number_line == True:\n",
    "            number = int(line.split(\"\\n\")[0])\n",
    "            sneezes.append(number)\n",
    "        # this line is related to the number of sneezes\n",
    "        if '<div class=\"text\">' in line:\n",
    "            number_line = True\n",
    "        else:\n",
    "            number_line = False"
   ]
  },
  {
   "cell_type": "code",
   "execution_count": 39,
   "metadata": {},
   "outputs": [],
   "source": [
    "df = pd.DataFrame(list(zip(datetimes, sneezes)), columns=['datetimes','sneezes'])"
   ]
  }
 ],
 "metadata": {
  "kernelspec": {
   "display_name": "Python 3.7.6 ('base')",
   "language": "python",
   "name": "python3"
  },
  "language_info": {
   "codemirror_mode": {
    "name": "ipython",
    "version": 3
   },
   "file_extension": ".py",
   "mimetype": "text/x-python",
   "name": "python",
   "nbconvert_exporter": "python",
   "pygments_lexer": "ipython3",
   "version": "3.7.6"
  },
  "orig_nbformat": 4,
  "vscode": {
   "interpreter": {
    "hash": "6f959b286b5f8c834869aaf1d757196b68a1cecf6e91cbea853ac64cd319e97b"
   }
  }
 },
 "nbformat": 4,
 "nbformat_minor": 2
}
